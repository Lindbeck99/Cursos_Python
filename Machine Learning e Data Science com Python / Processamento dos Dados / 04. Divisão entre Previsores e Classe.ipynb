{
  "nbformat": 4,
  "nbformat_minor": 0,
  "metadata": {
    "colab": {
      "name": "04. Divisão entre Previsores e Classe.ipynb",
      "provenance": [],
      "mount_file_id": "1GGg0AjSFkw_ej_DECl59jbBip5A6RFyH",
      "authorship_tag": "ABX9TyPLnmwp96W3Lxl98tsBGf0P",
      "include_colab_link": true
    },
    "kernelspec": {
      "name": "python3",
      "display_name": "Python 3"
    },
    "language_info": {
      "name": "python"
    }
  },
  "cells": [
    {
      "cell_type": "markdown",
      "metadata": {
        "id": "view-in-github",
        "colab_type": "text"
      },
      "source": [
        "<a href=\"https://colab.research.google.com/github/Lindbeck99/Cursos_Python/blob/main/Machine%20Learning%20e%20Data%20Science%20com%20Python%20/%20Processamento%20dos%20Dados%20/%2004.%20Divis%C3%A3o%20entre%20Previsores%20e%20Classe.ipynb\" target=\"_parent\"><img src=\"https://colab.research.google.com/assets/colab-badge.svg\" alt=\"Open In Colab\"/></a>"
      ]
    },
    {
      "cell_type": "code",
      "execution_count": 1,
      "metadata": {
        "colab": {
          "base_uri": "https://localhost:8080/",
          "height": 159
        },
        "id": "ibQCdNV1pLZ9",
        "outputId": "4bc08244-a239-408c-acb7-d22b7a12eb25"
      },
      "outputs": [
        {
          "output_type": "execute_result",
          "data": {
            "text/plain": [
              "   Unnamed: 0  Idade  Salário Modo de Moradia  Duração Emp.    Motivo Score  \\\n",
              "0           0     22    59000            RENT         123.0  PERSONAL     D   \n",
              "\n",
              "   Valor do Emp.  Taxa de Emp.  Status do Emp.  Emp./Salário  \\\n",
              "0          35000         16.02               1          0.59   \n",
              "\n",
              "   Tempo de Hisórico de Crédito  \n",
              "0                             3  "
            ],
            "text/html": [
              "\n",
              "  <div id=\"df-dbb0bb5f-2628-4813-b877-6776430cf4cf\">\n",
              "    <div class=\"colab-df-container\">\n",
              "      <div>\n",
              "<style scoped>\n",
              "    .dataframe tbody tr th:only-of-type {\n",
              "        vertical-align: middle;\n",
              "    }\n",
              "\n",
              "    .dataframe tbody tr th {\n",
              "        vertical-align: top;\n",
              "    }\n",
              "\n",
              "    .dataframe thead th {\n",
              "        text-align: right;\n",
              "    }\n",
              "</style>\n",
              "<table border=\"1\" class=\"dataframe\">\n",
              "  <thead>\n",
              "    <tr style=\"text-align: right;\">\n",
              "      <th></th>\n",
              "      <th>Unnamed: 0</th>\n",
              "      <th>Idade</th>\n",
              "      <th>Salário</th>\n",
              "      <th>Modo de Moradia</th>\n",
              "      <th>Duração Emp.</th>\n",
              "      <th>Motivo</th>\n",
              "      <th>Score</th>\n",
              "      <th>Valor do Emp.</th>\n",
              "      <th>Taxa de Emp.</th>\n",
              "      <th>Status do Emp.</th>\n",
              "      <th>Emp./Salário</th>\n",
              "      <th>Tempo de Hisórico de Crédito</th>\n",
              "    </tr>\n",
              "  </thead>\n",
              "  <tbody>\n",
              "    <tr>\n",
              "      <th>0</th>\n",
              "      <td>0</td>\n",
              "      <td>22</td>\n",
              "      <td>59000</td>\n",
              "      <td>RENT</td>\n",
              "      <td>123.0</td>\n",
              "      <td>PERSONAL</td>\n",
              "      <td>D</td>\n",
              "      <td>35000</td>\n",
              "      <td>16.02</td>\n",
              "      <td>1</td>\n",
              "      <td>0.59</td>\n",
              "      <td>3</td>\n",
              "    </tr>\n",
              "  </tbody>\n",
              "</table>\n",
              "</div>\n",
              "      <button class=\"colab-df-convert\" onclick=\"convertToInteractive('df-dbb0bb5f-2628-4813-b877-6776430cf4cf')\"\n",
              "              title=\"Convert this dataframe to an interactive table.\"\n",
              "              style=\"display:none;\">\n",
              "        \n",
              "  <svg xmlns=\"http://www.w3.org/2000/svg\" height=\"24px\"viewBox=\"0 0 24 24\"\n",
              "       width=\"24px\">\n",
              "    <path d=\"M0 0h24v24H0V0z\" fill=\"none\"/>\n",
              "    <path d=\"M18.56 5.44l.94 2.06.94-2.06 2.06-.94-2.06-.94-.94-2.06-.94 2.06-2.06.94zm-11 1L8.5 8.5l.94-2.06 2.06-.94-2.06-.94L8.5 2.5l-.94 2.06-2.06.94zm10 10l.94 2.06.94-2.06 2.06-.94-2.06-.94-.94-2.06-.94 2.06-2.06.94z\"/><path d=\"M17.41 7.96l-1.37-1.37c-.4-.4-.92-.59-1.43-.59-.52 0-1.04.2-1.43.59L10.3 9.45l-7.72 7.72c-.78.78-.78 2.05 0 2.83L4 21.41c.39.39.9.59 1.41.59.51 0 1.02-.2 1.41-.59l7.78-7.78 2.81-2.81c.8-.78.8-2.07 0-2.86zM5.41 20L4 18.59l7.72-7.72 1.47 1.35L5.41 20z\"/>\n",
              "  </svg>\n",
              "      </button>\n",
              "      \n",
              "  <style>\n",
              "    .colab-df-container {\n",
              "      display:flex;\n",
              "      flex-wrap:wrap;\n",
              "      gap: 12px;\n",
              "    }\n",
              "\n",
              "    .colab-df-convert {\n",
              "      background-color: #E8F0FE;\n",
              "      border: none;\n",
              "      border-radius: 50%;\n",
              "      cursor: pointer;\n",
              "      display: none;\n",
              "      fill: #1967D2;\n",
              "      height: 32px;\n",
              "      padding: 0 0 0 0;\n",
              "      width: 32px;\n",
              "    }\n",
              "\n",
              "    .colab-df-convert:hover {\n",
              "      background-color: #E2EBFA;\n",
              "      box-shadow: 0px 1px 2px rgba(60, 64, 67, 0.3), 0px 1px 3px 1px rgba(60, 64, 67, 0.15);\n",
              "      fill: #174EA6;\n",
              "    }\n",
              "\n",
              "    [theme=dark] .colab-df-convert {\n",
              "      background-color: #3B4455;\n",
              "      fill: #D2E3FC;\n",
              "    }\n",
              "\n",
              "    [theme=dark] .colab-df-convert:hover {\n",
              "      background-color: #434B5C;\n",
              "      box-shadow: 0px 1px 3px 1px rgba(0, 0, 0, 0.15);\n",
              "      filter: drop-shadow(0px 1px 2px rgba(0, 0, 0, 0.3));\n",
              "      fill: #FFFFFF;\n",
              "    }\n",
              "  </style>\n",
              "\n",
              "      <script>\n",
              "        const buttonEl =\n",
              "          document.querySelector('#df-dbb0bb5f-2628-4813-b877-6776430cf4cf button.colab-df-convert');\n",
              "        buttonEl.style.display =\n",
              "          google.colab.kernel.accessAllowed ? 'block' : 'none';\n",
              "\n",
              "        async function convertToInteractive(key) {\n",
              "          const element = document.querySelector('#df-dbb0bb5f-2628-4813-b877-6776430cf4cf');\n",
              "          const dataTable =\n",
              "            await google.colab.kernel.invokeFunction('convertToInteractive',\n",
              "                                                     [key], {});\n",
              "          if (!dataTable) return;\n",
              "\n",
              "          const docLinkHtml = 'Like what you see? Visit the ' +\n",
              "            '<a target=\"_blank\" href=https://colab.research.google.com/notebooks/data_table.ipynb>data table notebook</a>'\n",
              "            + ' to learn more about interactive tables.';\n",
              "          element.innerHTML = '';\n",
              "          dataTable['output_type'] = 'display_data';\n",
              "          await google.colab.output.renderOutput(dataTable, element);\n",
              "          const docLink = document.createElement('div');\n",
              "          docLink.innerHTML = docLinkHtml;\n",
              "          element.appendChild(docLink);\n",
              "        }\n",
              "      </script>\n",
              "    </div>\n",
              "  </div>\n",
              "  "
            ]
          },
          "metadata": {},
          "execution_count": 1
        }
      ],
      "source": [
        "import pandas, numpy\n",
        "dados_credito = pandas.read_csv('/content/drive/MyDrive/Github/Dados_Credito.csv')\n",
        "dados_credito.head(1)"
      ]
    },
    {
      "cell_type": "code",
      "source": [
        "previsores_x1 = dados_credito.iloc[:, 1:9].values\n",
        "previsores_x2 = dados_credito.iloc[:, 10:12].values\n",
        "previsores_y = dados_credito.iloc[:, 9].values"
      ],
      "metadata": {
        "id": "BbSiSXHZpThf"
      },
      "execution_count": 2,
      "outputs": []
    },
    {
      "cell_type": "code",
      "source": [
        "previsores_x1 = numpy.array(previsores_x1)\n",
        "previsores_x2 = numpy.array(previsores_x2)\n",
        "\n",
        "previsores_x = numpy.concatenate((previsores_x1, previsores_x2), axis=1)\n",
        "previsores_y = numpy.array(previsores_y)"
      ],
      "metadata": {
        "id": "rgvrGjt1pV_g"
      },
      "execution_count": 3,
      "outputs": []
    },
    {
      "cell_type": "code",
      "source": [
        "previsores_x"
      ],
      "metadata": {
        "colab": {
          "base_uri": "https://localhost:8080/"
        },
        "id": "hf3tSGmypZEO",
        "outputId": "df2e87e5-3ce8-4ff0-d016-029526253aa9"
      },
      "execution_count": 5,
      "outputs": [
        {
          "output_type": "execute_result",
          "data": {
            "text/plain": [
              "array([[22, 59000, 'RENT', ..., 16.02, 0.59, 3.0],\n",
              "       [21, 9600, 'OWN', ..., 11.14, 0.1, 2.0],\n",
              "       [25, 9600, 'MORTGAGE', ..., 12.87, 0.57, 3.0],\n",
              "       ...,\n",
              "       [65, 76000, 'RENT', ..., 10.99, 0.46, 28.0],\n",
              "       [56, 150000, 'MORTGAGE', ..., 11.48, 0.1, 26.0],\n",
              "       [66, 42000, 'RENT', ..., 9.99, 0.15, 30.0]], dtype=object)"
            ]
          },
          "metadata": {},
          "execution_count": 5
        }
      ]
    }
  ]
}