{
  "nbformat": 4,
  "nbformat_minor": 0,
  "metadata": {
    "colab": {
      "name": "05. Palavras em Números.ipynb",
      "provenance": [],
      "authorship_tag": "ABX9TyOuyEcMYhrRdv6fDD8Ik4Cp",
      "include_colab_link": true
    },
    "kernelspec": {
      "name": "python3",
      "display_name": "Python 3"
    },
    "language_info": {
      "name": "python"
    }
  },
  "cells": [
    {
      "cell_type": "markdown",
      "metadata": {
        "id": "view-in-github",
        "colab_type": "text"
      },
      "source": [
        "<a href=\"https://colab.research.google.com/github/Lindbeck99/Cursos_Python/blob/main/Machine%20Learning%20e%20Data%20Science%20com%20Python/Processamento%20dos%20Dados/05.%20Palavras%20em%20N%C3%BAmeros.ipynb\" target=\"_parent\"><img src=\"https://colab.research.google.com/assets/colab-badge.svg\" alt=\"Open In Colab\"/></a>"
      ]
    },
    {
      "cell_type": "code",
      "execution_count": null,
      "metadata": {
        "id": "nvwsS5pTqaXT"
      },
      "outputs": [],
      "source": [
        "from sklearn.preprocessing import LabelEncoder, OneHotEncoder\n",
        "from sklearn.compose import ColumnTransformer\n",
        "label_moradia = LabelEncoder()\n",
        "label_motivo = LabelEncoder()\n",
        "label_score = LabelEncoder()"
      ]
    },
    {
      "cell_type": "code",
      "source": [
        "previsores_x[:, 3] = label_moradia.fit_transform(previsores_x[:, 3])\n",
        "previsores_x[:, 5] = label_motivo.fit_transform(previsores_x[:, 5])\n",
        "previsores_x[:, 6] = label_score.fit_transform(previsores_x[:, 6])"
      ],
      "metadata": {
        "id": "sv1eJBglr86C"
      },
      "execution_count": null,
      "outputs": []
    },
    {
      "cell_type": "code",
      "source": [
        "onehot_credito = ColumnTransformer(transformers=[('OneHot', OneHotEncoder(), [2, 4, 5])], remainder='passthrough')\n",
        "previsores_x = onehot_credito.fit_transform(previsores_x)"
      ],
      "metadata": {
        "id": "GSk-xtiV01XN"
      },
      "execution_count": null,
      "outputs": []
    }
  ]
}