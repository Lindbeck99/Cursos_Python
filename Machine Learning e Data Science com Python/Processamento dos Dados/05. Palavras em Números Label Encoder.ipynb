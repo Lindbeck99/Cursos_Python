{
  "nbformat": 4,
  "nbformat_minor": 0,
  "metadata": {
    "colab": {
      "name": "Palavras em Números - Label Encoder.ipynb",
      "provenance": [],
      "authorship_tag": "ABX9TyM8gmAh+S8jj4d/8BpP9zLv",
      "include_colab_link": true
    },
    "kernelspec": {
      "name": "python3",
      "display_name": "Python 3"
    },
    "language_info": {
      "name": "python"
    }
  },
  "cells": [
    {
      "cell_type": "markdown",
      "metadata": {
        "id": "view-in-github",
        "colab_type": "text"
      },
      "source": [
        "<a href=\"https://colab.research.google.com/github/Lindbeck99/Cursos_Python/blob/main/Machine%20Learning%20e%20Data%20Science%20com%20Python/Processamento%20dos%20Dados/05.%20Palavras%20em%20N%C3%BAmeros%20Label%20Encoder.ipynb\" target=\"_parent\"><img src=\"https://colab.research.google.com/assets/colab-badge.svg\" alt=\"Open In Colab\"/></a>"
      ]
    },
    {
      "cell_type": "code",
      "execution_count": null,
      "metadata": {
        "id": "nvwsS5pTqaXT"
      },
      "outputs": [],
      "source": [
        "from sklearn.preprocessing import LabelEncoder\n",
        "label_moradia = LabelEncoder()\n",
        "label_motivo = LabelEncoder()\n",
        "label_score = LabelEncoder()"
      ]
    },
    {
      "cell_type": "code",
      "source": [
        "previsores_x[:, 3] = label_moradia.fit_transform(previsores_x[:, 3])\n",
        "previsores_x[:, 5] = label_motivo.fit_transform(previsores_x[:, 5])\n",
        "previsores_x[:, 6] = label_score.fit_transform(previsores_x[:, 6])"
      ],
      "metadata": {
        "id": "sv1eJBglr86C"
      },
      "execution_count": null,
      "outputs": []
    }
  ]
}