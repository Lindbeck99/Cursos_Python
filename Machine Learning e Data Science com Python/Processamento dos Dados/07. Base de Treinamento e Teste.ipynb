{
  "nbformat": 4,
  "nbformat_minor": 0,
  "metadata": {
    "colab": {
      "name": "07. Base de Treinamento e Teste.ipynb",
      "provenance": [],
      "authorship_tag": "ABX9TyP4hvBxgkGuh8yqKiHOzlu6",
      "include_colab_link": true
    },
    "kernelspec": {
      "name": "python3",
      "display_name": "Python 3"
    },
    "language_info": {
      "name": "python"
    }
  },
  "cells": [
    {
      "cell_type": "markdown",
      "metadata": {
        "id": "view-in-github",
        "colab_type": "text"
      },
      "source": [
        "<a href=\"https://colab.research.google.com/github/Lindbeck99/Cursos_Python/blob/main/Machine%20Learning%20e%20Data%20Science%20com%20Python/Processamento%20dos%20Dados/07.%20Base%20de%20Treinamento%20e%20Teste.ipynb\" target=\"_parent\"><img src=\"https://colab.research.google.com/assets/colab-badge.svg\" alt=\"Open In Colab\"/></a>"
      ]
    },
    {
      "cell_type": "code",
      "source": [
        "from sklearn.model_selection import train_test_split\n",
        "credito_x_treinamento, credito_y_treinamento, credito_x_teste, credito_y_teste = train_test_split(previsores_x, previsores_y, test_size=0.15, random_state=0)"
      ],
      "metadata": {
        "id": "Q3hlZzci2DL9"
      },
      "execution_count": null,
      "outputs": []
    },
    {
      "cell_type": "code",
      "source": [
        "import pickle\n",
        "with open('credito.pkl', mode='wb') as f:\n",
        "  pickle.dump([credito_x_treinamento, credito_y_treinamento, credito_x_teste, credito_y_teste], f)"
      ],
      "metadata": {
        "id": "H55HJ363743P"
      },
      "execution_count": null,
      "outputs": []
    }
  ]
}