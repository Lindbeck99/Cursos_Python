{
  "nbformat": 4,
  "nbformat_minor": 0,
  "metadata": {
    "colab": {
      "name": "06. Escalonamento dos Valores.ipynb",
      "provenance": [],
      "authorship_tag": "ABX9TyPMv5K8FhHx8/B5oBSRNLyq",
      "include_colab_link": true
    },
    "kernelspec": {
      "name": "python3",
      "display_name": "Python 3"
    },
    "language_info": {
      "name": "python"
    }
  },
  "cells": [
    {
      "cell_type": "markdown",
      "metadata": {
        "id": "view-in-github",
        "colab_type": "text"
      },
      "source": [
        "<a href=\"https://colab.research.google.com/github/Lindbeck99/Cursos_Python/blob/main/Machine%20Learning%20e%20Data%20Science%20com%20Python/Processamento%20dos%20Dados/06.%20Escalonamento%20dos%20Valores.ipynb\" target=\"_parent\"><img src=\"https://colab.research.google.com/assets/colab-badge.svg\" alt=\"Open In Colab\"/></a>"
      ]
    },
    {
      "cell_type": "code",
      "source": [
        "from sklearn.preprocessing import StandardScaler\n",
        "scaler_credito = StandardScaler()\n",
        "previsores_x = scaler_credito.fit_transform(previsores_x)"
      ],
      "metadata": {
        "id": "Q3hlZzci2DL9"
      },
      "execution_count": null,
      "outputs": []
    }
  ]
}