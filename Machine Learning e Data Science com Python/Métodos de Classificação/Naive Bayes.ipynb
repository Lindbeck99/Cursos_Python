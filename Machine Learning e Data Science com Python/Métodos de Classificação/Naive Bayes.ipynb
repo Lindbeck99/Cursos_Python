{
  "nbformat": 4,
  "nbformat_minor": 0,
  "metadata": {
    "colab": {
      "name": "Naive Bayes.ipynb",
      "provenance": [],
      "mount_file_id": "1GGg0AjSFkw_ej_DECl59jbBip5A6RFyH",
      "authorship_tag": "ABX9TyNvcPUZtH5N/lRc1yA3A1kl",
      "include_colab_link": true
    },
    "kernelspec": {
      "name": "python3",
      "display_name": "Python 3"
    },
    "language_info": {
      "name": "python"
    }
  },
  "cells": [
    {
      "cell_type": "markdown",
      "metadata": {
        "id": "view-in-github",
        "colab_type": "text"
      },
      "source": [
        "<a href=\"https://colab.research.google.com/github/Lindbeck99/Cursos_Python/blob/main/Machine%20Learning%20e%20Data%20Science%20com%20Python/M%C3%A9todos%20de%20Classifica%C3%A7%C3%A3o/Naive%20Bayes.ipynb\" target=\"_parent\"><img src=\"https://colab.research.google.com/assets/colab-badge.svg\" alt=\"Open In Colab\"/></a>"
      ]
    },
    {
      "cell_type": "code",
      "source": [
        "import pickle\n",
        "from sklearn.naive_bayes import GaussianNB\n",
        "\n",
        "with open('/content/drive/MyDrive/Github/Crédito.pkl', 'rb') as f:\n",
        "  credito_x_treinamento, credito_x_teste, credito_y_treinamento, credito_y_teste = pickle.load(f)"
      ],
      "metadata": {
        "id": "ZePoA-r2WVMZ"
      },
      "execution_count": 16,
      "outputs": []
    },
    {
      "cell_type": "code",
      "source": [
        "print(credito_x_teste.shape, credito_y_teste.shape)\n",
        "print(credito_x_treinamento.shape, credito_y_treinamento.shape)"
      ],
      "metadata": {
        "colab": {
          "base_uri": "https://localhost:8080/"
        },
        "id": "plKWYlbCdv9i",
        "outputId": "e7fa76bc-adf4-4f5f-84e7-ac0e05c42d04"
      },
      "execution_count": 17,
      "outputs": [
        {
          "output_type": "stream",
          "name": "stdout",
          "text": [
            "(4888, 33) (4888,)\n",
            "(27693, 33) (27693,)\n"
          ]
        }
      ]
    },
    {
      "cell_type": "code",
      "source": [
        "naive_credito = GaussianNB()\n",
        "naive_credito.fit(credito_x_treinamento, credito_y_treinamento)\n",
        "previsoes = naive_credito.predict(credito_x_teste)"
      ],
      "metadata": {
        "colab": {
          "base_uri": "https://localhost:8080/"
        },
        "id": "89lquqe7e0CE",
        "outputId": "1a1438d3-08a2-4c3d-adec-a66298f0e9de"
      },
      "execution_count": 28,
      "outputs": [
        {
          "output_type": "execute_result",
          "data": {
            "text/plain": [
              "nan"
            ]
          },
          "metadata": {},
          "execution_count": 28
        }
      ]
    },
    {
      "cell_type": "code",
      "source": [
        "from sklearn.metrics import accuracy_score, confusion_matrix\n",
        "accuracy_score(credito_y_teste, previsoes)\n",
        "confusion_matrix(credito_y_teste, previsoes)\n",
        "print(classification_report(credito_y_teste, previsoes))"
      ],
      "metadata": {
        "id": "ymup9GKhkMNT"
      },
      "execution_count": null,
      "outputs": []
    }
  ]
}