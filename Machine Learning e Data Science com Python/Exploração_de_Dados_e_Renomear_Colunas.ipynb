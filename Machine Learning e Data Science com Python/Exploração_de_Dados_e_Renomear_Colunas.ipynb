{
  "nbformat": 4,
  "nbformat_minor": 0,
  "metadata": {
    "colab": {
      "name": "Exploração de Dados e Renomear Colunas.ipynb",
      "provenance": [],
      "authorship_tag": "ABX9TyOz+QIydNFjC2J9hulNaakK",
      "include_colab_link": true
    },
    "kernelspec": {
      "name": "python3",
      "display_name": "Python 3"
    },
    "language_info": {
      "name": "python"
    }
  },
  "cells": [
    {
      "cell_type": "markdown",
      "metadata": {
        "id": "view-in-github",
        "colab_type": "text"
      },
      "source": [
        "<a href=\"https://colab.research.google.com/github/Lindbeck99/Cursos_Python/blob/main/Machine%20Learning%20e%20Data%20Science%20com%20Python/Explora%C3%A7%C3%A3o_de_Dados_e_Renomear_Colunas.ipynb\" target=\"_parent\"><img src=\"https://colab.research.google.com/assets/colab-badge.svg\" alt=\"Open In Colab\"/></a>"
      ]
    },
    {
      "cell_type": "markdown",
      "source": [
        "Exploração de Dados e Renomear Colunas"
      ],
      "metadata": {
        "id": "eKo7TiFR7FW6"
      }
    },
    {
      "cell_type": "code",
      "execution_count": 24,
      "metadata": {
        "id": "FkbVDDFcwqLR"
      },
      "outputs": [],
      "source": [
        "import pandas\n",
        "dados_credito = pandas.read_csv('/content/Risco de Crédito.csv')"
      ]
    },
    {
      "cell_type": "code",
      "source": [
        "dados_credito = dados_credito.rename(columns={'person_age':'Idade',\n",
        "                                              'person_income':'Salário',\n",
        "                                              'person_home_ownership':'Modo de Moradia',\n",
        "                                              'person_emp_length':'Duração Emp.',\n",
        "                                              'loan_intent':'Motivo',\n",
        "                                              'loan_grade':'Score',\n",
        "                                              'loan_amnt':'Valor do Emp.',\n",
        "                                              'loan_int_rate':'Taxa de Emp.',\n",
        "                                              'loan_status':'Status do Emp.',\n",
        "                                              'loan_percent_income':'Emp./Salário',\n",
        "                                              'cb_person_cred_hist_length':'Tempo de Hisórico de Crédito'})\n",
        "dados_credito = dados_credito.drop(columns=['cb_person_default_on_file'])"
      ],
      "metadata": {
        "id": "VcPz_kFi69Y7"
      },
      "execution_count": 25,
      "outputs": []
    }
  ]
}