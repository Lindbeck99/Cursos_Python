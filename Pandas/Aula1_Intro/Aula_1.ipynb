{
  "nbformat": 4,
  "nbformat_minor": 0,
  "metadata": {
    "colab": {
      "name": "Aula_1.ipynb",
      "provenance": [],
      "authorship_tag": "ABX9TyN45DnvUycesN8FRy0pVF4V"
    },
    "kernelspec": {
      "name": "python3",
      "display_name": "Python 3"
    },
    "language_info": {
      "name": "python"
    }
  },
  "cells": [
    {
      "cell_type": "code",
      "execution_count": null,
      "metadata": {
        "id": "nCq9YZN8nn66"
      },
      "outputs": [],
      "source": [
        "import pandas as pd\n",
        "df = "
      ]
    }
  ]
}